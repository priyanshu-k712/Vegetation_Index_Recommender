{
 "cells": [
  {
   "cell_type": "code",
   "id": "initial_id",
   "metadata": {
    "collapsed": true,
    "ExecuteTime": {
     "end_time": "2025-09-05T14:45:54.777551Z",
     "start_time": "2025-09-05T14:45:54.766608Z"
    }
   },
   "source": [
    "from langchain_ollama import OllamaEmbeddings\n",
    "from langchain_chroma import Chroma\n",
    "from langchain_core.documents import Document\n",
    "\n",
    "import os\n",
    "import pandas as pd\n",
    "\n",
    "df = pd.read_csv(\"Data/Context.csv\")\n",
    "df.head()"
   ],
   "outputs": [
    {
     "data": {
      "text/plain": [
       "  Index        Value                                            Meaning  \\\n",
       "0   GLI        <=0.0  Bare soil, residue, or plants under severe str...   \n",
       "1   GLI   0.0 – 0.15  Sparse or stressed vegetation, early crop stag...   \n",
       "2   GLI  0.15 – 0.35  Healthy vegetation but not yet dense canopy (i...   \n",
       "3   GLI        >0.35  Dense, healthy, green canopy with good chlorop...   \n",
       "4  VARI        <=0.0  Non-vegetation surfaces (soil, roads, residues...   \n",
       "\n",
       "                                          Suggestion  \n",
       "0  Inspect field for bare patches, weeds, or pest...  \n",
       "1  Conduct ground truthing (soil tests, leaf samp...  \n",
       "2  Continue regular agronomic practices (weeding,...  \n",
       "3  Minimal immediate intervention required.\\nFocu...  \n",
       "4  Check if values are due to actual bare soil or...  "
      ],
      "text/html": [
       "<div>\n",
       "<style scoped>\n",
       "    .dataframe tbody tr th:only-of-type {\n",
       "        vertical-align: middle;\n",
       "    }\n",
       "\n",
       "    .dataframe tbody tr th {\n",
       "        vertical-align: top;\n",
       "    }\n",
       "\n",
       "    .dataframe thead th {\n",
       "        text-align: right;\n",
       "    }\n",
       "</style>\n",
       "<table border=\"1\" class=\"dataframe\">\n",
       "  <thead>\n",
       "    <tr style=\"text-align: right;\">\n",
       "      <th></th>\n",
       "      <th>Index</th>\n",
       "      <th>Value</th>\n",
       "      <th>Meaning</th>\n",
       "      <th>Suggestion</th>\n",
       "    </tr>\n",
       "  </thead>\n",
       "  <tbody>\n",
       "    <tr>\n",
       "      <th>0</th>\n",
       "      <td>GLI</td>\n",
       "      <td>&lt;=0.0</td>\n",
       "      <td>Bare soil, residue, or plants under severe str...</td>\n",
       "      <td>Inspect field for bare patches, weeds, or pest...</td>\n",
       "    </tr>\n",
       "    <tr>\n",
       "      <th>1</th>\n",
       "      <td>GLI</td>\n",
       "      <td>0.0 – 0.15</td>\n",
       "      <td>Sparse or stressed vegetation, early crop stag...</td>\n",
       "      <td>Conduct ground truthing (soil tests, leaf samp...</td>\n",
       "    </tr>\n",
       "    <tr>\n",
       "      <th>2</th>\n",
       "      <td>GLI</td>\n",
       "      <td>0.15 – 0.35</td>\n",
       "      <td>Healthy vegetation but not yet dense canopy (i...</td>\n",
       "      <td>Continue regular agronomic practices (weeding,...</td>\n",
       "    </tr>\n",
       "    <tr>\n",
       "      <th>3</th>\n",
       "      <td>GLI</td>\n",
       "      <td>&gt;0.35</td>\n",
       "      <td>Dense, healthy, green canopy with good chlorop...</td>\n",
       "      <td>Minimal immediate intervention required.\\nFocu...</td>\n",
       "    </tr>\n",
       "    <tr>\n",
       "      <th>4</th>\n",
       "      <td>VARI</td>\n",
       "      <td>&lt;=0.0</td>\n",
       "      <td>Non-vegetation surfaces (soil, roads, residues...</td>\n",
       "      <td>Check if values are due to actual bare soil or...</td>\n",
       "    </tr>\n",
       "  </tbody>\n",
       "</table>\n",
       "</div>"
      ]
     },
     "execution_count": 12,
     "metadata": {},
     "output_type": "execute_result"
    }
   ],
   "execution_count": 12
  },
  {
   "metadata": {
    "ExecuteTime": {
     "end_time": "2025-09-05T14:45:54.788250Z",
     "start_time": "2025-09-05T14:45:54.786293Z"
    }
   },
   "cell_type": "code",
   "source": "print(df[\"Suggestion\"][0])",
   "id": "1a44f178fc74bfc6",
   "outputs": [
    {
     "name": "stdout",
     "output_type": "stream",
     "text": [
      "Inspect field for bare patches, weeds, or pest/disease damage, If recently harvested, plan for next sowing or residue management,If not harvested, check for severe stress factors (e.g., irrigation failure, nutrient deficiency).\n",
      "Exclude soil/non-veg areas in analysis (masking).\n",
      "\n",
      "\n"
     ]
    }
   ],
   "execution_count": 13
  },
  {
   "metadata": {
    "ExecuteTime": {
     "end_time": "2025-09-05T14:46:54.703473Z",
     "start_time": "2025-09-05T14:46:54.623039Z"
    }
   },
   "cell_type": "code",
   "source": [
    "import pandas as pd\n",
    "import numpy as np\n",
    "from langchain_ollama import OllamaLLM\n",
    "from vector import retriever\n",
    "\n",
    "df = pd.read_excel(\"Data/vegetation_indices_predictions_ALL_IMAGES.xlsx\")\n",
    "df.head()"
   ],
   "id": "34e16ace9915db16",
   "outputs": [
    {
     "data": {
      "text/plain": [
       "                                   image_id  actual_vNDVI  actual_MGRVI  \\\n",
       "0  063b1190-8045-4b6b-ae85-731475d82ca0.png      0.125768      0.138738   \n",
       "1  0ad00024-7a7d-4891-9557-53bcc9430273.png      0.228439      0.018163   \n",
       "2  05ef37c9-e9d7-4142-bd66-4ed62db9016a.png      0.106568      0.221293   \n",
       "3  02c35db8-48f7-47b5-a308-f5f052d1829d.png      0.089109      0.277079   \n",
       "4  09b78985-f9eb-48ff-a37e-3cd6c824375a.png      0.139617      0.078573   \n",
       "\n",
       "   actual_VARI  predicted_vNDVI  predicted_MGRVI  predicted_VARI  \n",
       "0     0.113290         0.140436         0.113498        0.082838  \n",
       "1     0.014578         0.213675         0.023064        0.016862  \n",
       "2     0.177623         0.101120         0.195884        0.138537  \n",
       "3     0.199834         0.110136         0.212223        0.168450  \n",
       "4     0.057500         0.185034         0.008325       -0.003518  "
      ],
      "text/html": [
       "<div>\n",
       "<style scoped>\n",
       "    .dataframe tbody tr th:only-of-type {\n",
       "        vertical-align: middle;\n",
       "    }\n",
       "\n",
       "    .dataframe tbody tr th {\n",
       "        vertical-align: top;\n",
       "    }\n",
       "\n",
       "    .dataframe thead th {\n",
       "        text-align: right;\n",
       "    }\n",
       "</style>\n",
       "<table border=\"1\" class=\"dataframe\">\n",
       "  <thead>\n",
       "    <tr style=\"text-align: right;\">\n",
       "      <th></th>\n",
       "      <th>image_id</th>\n",
       "      <th>actual_vNDVI</th>\n",
       "      <th>actual_MGRVI</th>\n",
       "      <th>actual_VARI</th>\n",
       "      <th>predicted_vNDVI</th>\n",
       "      <th>predicted_MGRVI</th>\n",
       "      <th>predicted_VARI</th>\n",
       "    </tr>\n",
       "  </thead>\n",
       "  <tbody>\n",
       "    <tr>\n",
       "      <th>0</th>\n",
       "      <td>063b1190-8045-4b6b-ae85-731475d82ca0.png</td>\n",
       "      <td>0.125768</td>\n",
       "      <td>0.138738</td>\n",
       "      <td>0.113290</td>\n",
       "      <td>0.140436</td>\n",
       "      <td>0.113498</td>\n",
       "      <td>0.082838</td>\n",
       "    </tr>\n",
       "    <tr>\n",
       "      <th>1</th>\n",
       "      <td>0ad00024-7a7d-4891-9557-53bcc9430273.png</td>\n",
       "      <td>0.228439</td>\n",
       "      <td>0.018163</td>\n",
       "      <td>0.014578</td>\n",
       "      <td>0.213675</td>\n",
       "      <td>0.023064</td>\n",
       "      <td>0.016862</td>\n",
       "    </tr>\n",
       "    <tr>\n",
       "      <th>2</th>\n",
       "      <td>05ef37c9-e9d7-4142-bd66-4ed62db9016a.png</td>\n",
       "      <td>0.106568</td>\n",
       "      <td>0.221293</td>\n",
       "      <td>0.177623</td>\n",
       "      <td>0.101120</td>\n",
       "      <td>0.195884</td>\n",
       "      <td>0.138537</td>\n",
       "    </tr>\n",
       "    <tr>\n",
       "      <th>3</th>\n",
       "      <td>02c35db8-48f7-47b5-a308-f5f052d1829d.png</td>\n",
       "      <td>0.089109</td>\n",
       "      <td>0.277079</td>\n",
       "      <td>0.199834</td>\n",
       "      <td>0.110136</td>\n",
       "      <td>0.212223</td>\n",
       "      <td>0.168450</td>\n",
       "    </tr>\n",
       "    <tr>\n",
       "      <th>4</th>\n",
       "      <td>09b78985-f9eb-48ff-a37e-3cd6c824375a.png</td>\n",
       "      <td>0.139617</td>\n",
       "      <td>0.078573</td>\n",
       "      <td>0.057500</td>\n",
       "      <td>0.185034</td>\n",
       "      <td>0.008325</td>\n",
       "      <td>-0.003518</td>\n",
       "    </tr>\n",
       "  </tbody>\n",
       "</table>\n",
       "</div>"
      ]
     },
     "execution_count": 15,
     "metadata": {},
     "output_type": "execute_result"
    }
   ],
   "execution_count": 15
  },
  {
   "metadata": {},
   "cell_type": "code",
   "outputs": [],
   "execution_count": null,
   "source": "",
   "id": "33a202451798f20c"
  }
 ],
 "metadata": {
  "kernelspec": {
   "display_name": "Python 3",
   "language": "python",
   "name": "python3"
  },
  "language_info": {
   "codemirror_mode": {
    "name": "ipython",
    "version": 2
   },
   "file_extension": ".py",
   "mimetype": "text/x-python",
   "name": "python",
   "nbconvert_exporter": "python",
   "pygments_lexer": "ipython2",
   "version": "2.7.6"
  }
 },
 "nbformat": 4,
 "nbformat_minor": 5
}
